{
 "cells": [
  {
   "cell_type": "code",
   "execution_count": 11,
   "metadata": {},
   "outputs": [],
   "source": [
    "import pandas as pd \n",
    "import numpy as np \n",
    "from bs4 import BeautifulSoup\n",
    "from selenium import webdriver\n",
    "import requests"
   ]
  },
  {
   "cell_type": "code",
   "execution_count": 1,
   "metadata": {},
   "outputs": [
    {
     "name": "stdout",
     "output_type": "stream",
     "text": [
      "Collecting uszipcode\n",
      "\u001b[?25l  Downloading https://files.pythonhosted.org/packages/34/e1/f828cd05732433d0074a17a2623a8c1281c5dc7fb265fef1d3867692037b/uszipcode-0.2.2-py2.py3-none-any.whl (137kB)\n",
      "\u001b[K    100% |████████████████████████████████| 143kB 924kB/s ta 0:00:01\n",
      "\u001b[?25hRequirement already satisfied: attrs in /Users/chuckdye/anaconda3/lib/python3.6/site-packages (from uszipcode) (19.1.0)\n",
      "Requirement already satisfied: requests in /Users/chuckdye/anaconda3/lib/python3.6/site-packages (from uszipcode) (2.21.0)\n",
      "Requirement already satisfied: sqlalchemy in /Users/chuckdye/anaconda3/lib/python3.6/site-packages (from uszipcode) (1.3.1)\n",
      "Collecting pathlib-mate (from uszipcode)\n",
      "\u001b[?25l  Downloading https://files.pythonhosted.org/packages/ff/f2/a1e6044fe90784e7bbc05286f2e8616aa2ff167f7275f5a6f2df479092c0/pathlib_mate-0.0.15-py2.py3-none-any.whl (195kB)\n",
      "\u001b[K    100% |████████████████████████████████| 204kB 1.1MB/s ta 0:00:01\n",
      "\u001b[?25hRequirement already satisfied: idna<2.9,>=2.5 in /Users/chuckdye/anaconda3/lib/python3.6/site-packages (from requests->uszipcode) (2.8)\n",
      "Requirement already satisfied: urllib3<1.25,>=1.21.1 in /Users/chuckdye/anaconda3/lib/python3.6/site-packages (from requests->uszipcode) (1.24.1)\n",
      "Requirement already satisfied: certifi>=2017.4.17 in /Users/chuckdye/anaconda3/lib/python3.6/site-packages (from requests->uszipcode) (2019.3.9)\n",
      "Requirement already satisfied: chardet<3.1.0,>=3.0.2 in /Users/chuckdye/anaconda3/lib/python3.6/site-packages (from requests->uszipcode) (3.0.4)\n",
      "Requirement already satisfied: six in /Users/chuckdye/anaconda3/lib/python3.6/site-packages (from pathlib-mate->uszipcode) (1.12.0)\n",
      "Collecting autopep8 (from pathlib-mate->uszipcode)\n",
      "\u001b[?25l  Downloading https://files.pythonhosted.org/packages/45/f3/24b437da561b6af4840c871fbbda32889ca304fc1f7b6cc3ada8b09f394a/autopep8-1.4.4.tar.gz (114kB)\n",
      "\u001b[K    100% |████████████████████████████████| 122kB 987kB/s ta 0:00:01\n",
      "\u001b[?25hRequirement already satisfied: pycodestyle>=2.4.0 in /Users/chuckdye/anaconda3/lib/python3.6/site-packages (from autopep8->pathlib-mate->uszipcode) (2.5.0)\n",
      "Building wheels for collected packages: autopep8\n",
      "  Building wheel for autopep8 (setup.py) ... \u001b[?25ldone\n",
      "\u001b[?25h  Stored in directory: /Users/chuckdye/Library/Caches/pip/wheels/7e/f5/4b/c19e6276126325eb8071b273347c05a830c37a82b9b3b81510\n",
      "Successfully built autopep8\n",
      "Installing collected packages: autopep8, pathlib-mate, uszipcode\n",
      "Successfully installed autopep8-1.4.4 pathlib-mate-0.0.15 uszipcode-0.2.2\n",
      "Note: you may need to restart the kernel to use updated packages.\n"
     ]
    }
   ],
   "source": [
    "pip install uszipcode\n"
   ]
  },
  {
   "cell_type": "code",
   "execution_count": 1,
   "metadata": {},
   "outputs": [],
   "source": [
    "from uszipcode import SearchEngine\n",
    "\n",
    "search = SearchEngine(simple_zipcode=True)"
   ]
  },
  {
   "cell_type": "code",
   "execution_count": 16,
   "metadata": {
    "scrolled": true
   },
   "outputs": [],
   "source": [
    "bmo = search.by_zipcode('21201')"
   ]
  },
  {
   "cell_type": "code",
   "execution_count": 99,
   "metadata": {},
   "outputs": [],
   "source": [
    "def main_search(Zip, disaster_type ):\n",
    "    disaster_dict = {\n",
    "        'hurricane': 100,\n",
    "        'flood': 50,\n",
    "        'fire':20\n",
    "    }\n",
    "    search = SearchEngine(simple_zipcode=True)\n",
    "    zipcode = search.by_zipcode(str(Zip))\n",
    "    result = search.by_coordinates(zipcode.lat,zipcode.lng, radius= (disaster_dict[disaster_type]), returns=1000)\n",
    "    print(f'The median hose hold income of {Zip} ({zipcode.major_city}) is: {zipcode.median_home_value}')\n",
    "    value = 0\n",
    "    for i in result:\n",
    "\n",
    "        try: \n",
    "            value += i.median_home_value * i.housing_units\n",
    "        except:\n",
    "            pass\n",
    "    print(f'Total damage to be expected is: {value} dollars for a {disaster_type}')"
   ]
  },
  {
   "cell_type": "code",
   "execution_count": 100,
   "metadata": {},
   "outputs": [
    {
     "name": "stdout",
     "output_type": "stream",
     "text": [
      "The median hose hold income of 21791 (Union Bridge) is: 319800\n",
      "Total damage to be expected is: 1092854025900 dollars for a flood\n"
     ]
    }
   ],
   "source": [
    "main_search('21791', 'flood')"
   ]
  },
  {
   "cell_type": "code",
   "execution_count": 63,
   "metadata": {},
   "outputs": [],
   "source": [
    "result = search.by_coordinates(39.122229, -77.133578, radius=30, returns=1000)"
   ]
  },
  {
   "cell_type": "code",
   "execution_count": 64,
   "metadata": {},
   "outputs": [
    {
     "data": {
      "text/plain": [
       "239"
      ]
     },
     "execution_count": 64,
     "metadata": {},
     "output_type": "execute_result"
    }
   ],
   "source": [
    "len(result)"
   ]
  },
  {
   "cell_type": "code",
   "execution_count": 81,
   "metadata": {},
   "outputs": [
    {
     "name": "stdout",
     "output_type": "stream",
     "text": [
      "100673900\n"
     ]
    }
   ],
   "source": [
    "value = 0\n",
    "for i in result:\n",
    "\n",
    "    try: \n",
    "        value += i.median_home_value\n",
    "    except:\n",
    "        pass\n",
    "print(value)\n",
    "    "
   ]
  },
  {
   "cell_type": "code",
   "execution_count": 53,
   "metadata": {},
   "outputs": [],
   "source": [
    "def area_search(Zip, d):\n",
    "    search = SearchEngine(simple_zipcode=True)\n",
    "    zipcode = search.by_zipcode(str(Zip))\n",
    "    import math\n",
    "\n",
    "    R = 6378.1 #Radius of the Earth\n",
    "    brng = 1.57 #Bearing is 90 degrees converted to radians.\n",
    "    d = d #Distance in km\n",
    "\n",
    "\n",
    "\n",
    "    lat1 = math.radians(zipcode.lat) #Current lat point converted to radians\n",
    "    lon1 = math.radians(zipcode.lng) #Current long point converted to radians\n",
    "\n",
    "    lat2 = math.asin( math.sin(lat1)*math.cos(d/R) +\n",
    "         math.cos(lat1)*math.sin(d/R)*math.cos(brng))\n",
    "\n",
    "    lon2 = lon1 + math.atan2(math.sin(brng)*math.sin(d/R)*math.cos(lat1),\n",
    "                 math.cos(d/R)-math.sin(lat1)*math.sin(lat2))\n",
    "\n",
    "    lat2 = math.degrees(lat2)\n",
    "    lon2 = math.degrees(lon2)\n",
    "\n",
    "    print(lat2)\n",
    "    print(lon2)"
   ]
  },
  {
   "cell_type": "code",
   "execution_count": 56,
   "metadata": {},
   "outputs": [
    {
     "name": "stdout",
     "output_type": "stream",
     "text": [
      "39.28991259359485\n",
      "-76.38786117668953\n"
     ]
    }
   ],
   "source": [
    "area_search('21201',20)"
   ]
  },
  {
   "cell_type": "code",
   "execution_count": 98,
   "metadata": {
    "scrolled": true
   },
   "outputs": [
    {
     "data": {
      "text/plain": [
       "11255"
      ]
     },
     "execution_count": 98,
     "metadata": {},
     "output_type": "execute_result"
    }
   ],
   "source": [
    "bmo.housing_units"
   ]
  },
  {
   "cell_type": "code",
   "execution_count": null,
   "metadata": {},
   "outputs": [],
   "source": [
    "url = 'http://www.zillow.com'\n",
    "res = requests.get(url)\n",
    "soup = BeautifulSoup(res.content, 'lxml')"
   ]
  },
  {
   "cell_type": "code",
   "execution_count": null,
   "metadata": {},
   "outputs": [],
   "source": [
    "res.status_code"
   ]
  },
  {
   "cell_type": "code",
   "execution_count": null,
   "metadata": {},
   "outputs": [],
   "source": [
    "driver.find_element_by_name('zipCode'),\n",
    "\n",
    "zip_feild = driver.find_element_by_name('zipCode')\n",
    "zip_feild.send_keys(zipcode)\n",
    "\n",
    "from selenium.webdriver.common.by import By\n",
    "\n",
    "login_btn = driver.find_element_by_css_selector(\".btn-primary\")\n",
    "login_btn.send\n",
    "\n",
    "driver.find"
   ]
  },
  {
   "cell_type": "code",
   "execution_count": null,
   "metadata": {},
   "outputs": [],
   "source": [
    "pip install python-zillow\n"
   ]
  },
  {
   "cell_type": "code",
   "execution_count": 1,
   "metadata": {},
   "outputs": [],
   "source": [
    "import zillow"
   ]
  },
  {
   "cell_type": "code",
   "execution_count": 3,
   "metadata": {},
   "outputs": [],
   "source": [
    "api = zillow.ValuationApi()"
   ]
  },
  {
   "cell_type": "code",
   "execution_count": 12,
   "metadata": {},
   "outputs": [
    {
     "ename": "ZillowError",
     "evalue": "{'message': 'Specify address and citystatezip.'}",
     "output_type": "error",
     "traceback": [
      "\u001b[0;31m---------------------------------------------------------------------------\u001b[0m",
      "\u001b[0;31mZillowError\u001b[0m                               Traceback (most recent call last)",
      "\u001b[0;32m<ipython-input-12-aa07d9c64786>\u001b[0m in \u001b[0;36m<module>\u001b[0;34m\u001b[0m\n\u001b[0;32m----> 1\u001b[0;31m \u001b[0mapi\u001b[0m\u001b[0;34m.\u001b[0m\u001b[0mGetSearchResults\u001b[0m\u001b[0;34m(\u001b[0m\u001b[0;34m'X1-ZWz17zkrx7qe4r_517ck'\u001b[0m\u001b[0;34m,\u001b[0m \u001b[0maddress\u001b[0m\u001b[0;34m=\u001b[0m\u001b[0;34m''\u001b[0m\u001b[0;34m,\u001b[0m\u001b[0mcitystatezip\u001b[0m\u001b[0;34m=\u001b[0m\u001b[0;34m'21201'\u001b[0m\u001b[0;34m)\u001b[0m\u001b[0;34m\u001b[0m\u001b[0;34m\u001b[0m\u001b[0m\n\u001b[0m",
      "\u001b[0;32m~/anaconda3/lib/python3.6/site-packages/zillow/api.py\u001b[0m in \u001b[0;36mGetSearchResults\u001b[0;34m(self, zws_id, address, citystatezip, retnzestimate)\u001b[0m\n\u001b[1;32m     51\u001b[0m             \u001b[0mparameters\u001b[0m\u001b[0;34m[\u001b[0m\u001b[0;34m'citystatezip'\u001b[0m\u001b[0;34m]\u001b[0m \u001b[0;34m=\u001b[0m \u001b[0mcitystatezip\u001b[0m\u001b[0;34m\u001b[0m\u001b[0;34m\u001b[0m\u001b[0m\n\u001b[1;32m     52\u001b[0m         \u001b[0;32melse\u001b[0m\u001b[0;34m:\u001b[0m\u001b[0;34m\u001b[0m\u001b[0;34m\u001b[0m\u001b[0m\n\u001b[0;32m---> 53\u001b[0;31m             \u001b[0;32mraise\u001b[0m \u001b[0mZillowError\u001b[0m\u001b[0;34m(\u001b[0m\u001b[0;34m{\u001b[0m\u001b[0;34m'message'\u001b[0m\u001b[0;34m:\u001b[0m \u001b[0;34m\"Specify address and citystatezip.\"\u001b[0m\u001b[0;34m}\u001b[0m\u001b[0;34m)\u001b[0m\u001b[0;34m\u001b[0m\u001b[0;34m\u001b[0m\u001b[0m\n\u001b[0m\u001b[1;32m     54\u001b[0m         \u001b[0;32mif\u001b[0m \u001b[0mretnzestimate\u001b[0m\u001b[0;34m:\u001b[0m\u001b[0;34m\u001b[0m\u001b[0;34m\u001b[0m\u001b[0m\n\u001b[1;32m     55\u001b[0m             \u001b[0mparameters\u001b[0m\u001b[0;34m[\u001b[0m\u001b[0;34m'retnzestimate'\u001b[0m\u001b[0;34m]\u001b[0m \u001b[0;34m=\u001b[0m \u001b[0;34m'true'\u001b[0m\u001b[0;34m\u001b[0m\u001b[0;34m\u001b[0m\u001b[0m\n",
      "\u001b[0;31mZillowError\u001b[0m: {'message': 'Specify address and citystatezip.'}"
     ]
    }
   ],
   "source": [
    "api.GetSearchResults('X1-ZWz17zkrx7qe4r_517ck', address='',citystatezip='21201')"
   ]
  },
  {
   "cell_type": "code",
   "execution_count": 14,
   "metadata": {},
   "outputs": [
    {
     "ename": "ZillowError",
     "evalue": "{'message': 'Zillow did not return a valid response: <?xml version=\"1.0\" encoding=\"utf-8\"?><SearchResults:searchresults xsi:schemaLocation=\"http://www.zillow.com/static/xsd/SearchResults.xsd https://www.zillowstatic.com/vstatic/7de9b24/static/xsd/SearchResults.xsd\" xmlns:xsi=\"http://www.w3.org/2001/XMLSchema-instance\" xmlns:SearchResults=\"http://www.zillow.com/static/xsd/SearchResults.xsd\"><request><address></address><citystatezip></citystatezip></request><message><text>Error: this account is not authorized to execute this API call</text><code>6</code></message></SearchResults:searchresults><!-- H:048  T:12ms  S:150  R:Tue Apr 16 09:54:37 PDT 2019  B:5.0.59689.5-hotfix_2019-04-10.a4901c4~hotfix-platform-for-2019-04-10.5bf180c -->'}",
     "output_type": "error",
     "traceback": [
      "\u001b[0;31m---------------------------------------------------------------------------\u001b[0m",
      "\u001b[0;31mKeyError\u001b[0m                                  Traceback (most recent call last)",
      "\u001b[0;32m~/anaconda3/lib/python3.6/site-packages/zillow/api.py\u001b[0m in \u001b[0;36mGetDeepSearchResults\u001b[0;34m(self, zws_id, address, citystatezip, retnzestimate)\u001b[0m\n\u001b[1;32m    129\u001b[0m         \u001b[0;32mtry\u001b[0m\u001b[0;34m:\u001b[0m\u001b[0;34m\u001b[0m\u001b[0;34m\u001b[0m\u001b[0m\n\u001b[0;32m--> 130\u001b[0;31m             \u001b[0mplace\u001b[0m\u001b[0;34m.\u001b[0m\u001b[0mset_data\u001b[0m\u001b[0;34m(\u001b[0m\u001b[0mxmltodict_data\u001b[0m\u001b[0;34m.\u001b[0m\u001b[0mget\u001b[0m\u001b[0;34m(\u001b[0m\u001b[0;34m'SearchResults:searchresults'\u001b[0m\u001b[0;34m,\u001b[0m \u001b[0;32mNone\u001b[0m\u001b[0;34m)\u001b[0m\u001b[0;34m[\u001b[0m\u001b[0;34m'response'\u001b[0m\u001b[0;34m]\u001b[0m\u001b[0;34m[\u001b[0m\u001b[0;34m'results'\u001b[0m\u001b[0;34m]\u001b[0m\u001b[0;34m[\u001b[0m\u001b[0;34m'result'\u001b[0m\u001b[0;34m]\u001b[0m\u001b[0;34m)\u001b[0m\u001b[0;34m\u001b[0m\u001b[0;34m\u001b[0m\u001b[0m\n\u001b[0m\u001b[1;32m    131\u001b[0m         \u001b[0;32mexcept\u001b[0m\u001b[0;34m:\u001b[0m\u001b[0;34m\u001b[0m\u001b[0;34m\u001b[0m\u001b[0m\n",
      "\u001b[0;31mKeyError\u001b[0m: 'response'",
      "\nDuring handling of the above exception, another exception occurred:\n",
      "\u001b[0;31mZillowError\u001b[0m                               Traceback (most recent call last)",
      "\u001b[0;32m<ipython-input-14-991775902fc3>\u001b[0m in \u001b[0;36m<module>\u001b[0;34m\u001b[0m\n\u001b[1;32m      2\u001b[0m \u001b[0mpostal_code\u001b[0m \u001b[0;34m=\u001b[0m \u001b[0;34m\"90292\"\u001b[0m\u001b[0;34m\u001b[0m\u001b[0;34m\u001b[0m\u001b[0m\n\u001b[1;32m      3\u001b[0m \u001b[0;34m\u001b[0m\u001b[0m\n\u001b[0;32m----> 4\u001b[0;31m \u001b[0mdata\u001b[0m \u001b[0;34m=\u001b[0m \u001b[0mapi\u001b[0m\u001b[0;34m.\u001b[0m\u001b[0mGetDeepSearchResults\u001b[0m\u001b[0;34m(\u001b[0m\u001b[0;34m'X1-ZWz17zkrx7qe4r_517ck'\u001b[0m\u001b[0;34m,\u001b[0m \u001b[0maddress\u001b[0m\u001b[0;34m,\u001b[0m \u001b[0mpostal_code\u001b[0m\u001b[0;34m)\u001b[0m\u001b[0;34m\u001b[0m\u001b[0;34m\u001b[0m\u001b[0m\n\u001b[0m",
      "\u001b[0;32m~/anaconda3/lib/python3.6/site-packages/zillow/api.py\u001b[0m in \u001b[0;36mGetDeepSearchResults\u001b[0;34m(self, zws_id, address, citystatezip, retnzestimate)\u001b[0m\n\u001b[1;32m    130\u001b[0m             \u001b[0mplace\u001b[0m\u001b[0;34m.\u001b[0m\u001b[0mset_data\u001b[0m\u001b[0;34m(\u001b[0m\u001b[0mxmltodict_data\u001b[0m\u001b[0;34m.\u001b[0m\u001b[0mget\u001b[0m\u001b[0;34m(\u001b[0m\u001b[0;34m'SearchResults:searchresults'\u001b[0m\u001b[0;34m,\u001b[0m \u001b[0;32mNone\u001b[0m\u001b[0;34m)\u001b[0m\u001b[0;34m[\u001b[0m\u001b[0;34m'response'\u001b[0m\u001b[0;34m]\u001b[0m\u001b[0;34m[\u001b[0m\u001b[0;34m'results'\u001b[0m\u001b[0;34m]\u001b[0m\u001b[0;34m[\u001b[0m\u001b[0;34m'result'\u001b[0m\u001b[0;34m]\u001b[0m\u001b[0;34m)\u001b[0m\u001b[0;34m\u001b[0m\u001b[0;34m\u001b[0m\u001b[0m\n\u001b[1;32m    131\u001b[0m         \u001b[0;32mexcept\u001b[0m\u001b[0;34m:\u001b[0m\u001b[0;34m\u001b[0m\u001b[0;34m\u001b[0m\u001b[0m\n\u001b[0;32m--> 132\u001b[0;31m             \u001b[0;32mraise\u001b[0m \u001b[0mZillowError\u001b[0m\u001b[0;34m(\u001b[0m\u001b[0;34m{\u001b[0m\u001b[0;34m'message'\u001b[0m\u001b[0;34m:\u001b[0m \u001b[0;34m\"Zillow did not return a valid response: %s\"\u001b[0m \u001b[0;34m%\u001b[0m \u001b[0mdata\u001b[0m\u001b[0;34m}\u001b[0m\u001b[0;34m)\u001b[0m\u001b[0;34m\u001b[0m\u001b[0;34m\u001b[0m\u001b[0m\n\u001b[0m\u001b[1;32m    133\u001b[0m \u001b[0;34m\u001b[0m\u001b[0m\n\u001b[1;32m    134\u001b[0m         \u001b[0;32mreturn\u001b[0m \u001b[0mplace\u001b[0m\u001b[0;34m\u001b[0m\u001b[0;34m\u001b[0m\u001b[0m\n",
      "\u001b[0;31mZillowError\u001b[0m: {'message': 'Zillow did not return a valid response: <?xml version=\"1.0\" encoding=\"utf-8\"?><SearchResults:searchresults xsi:schemaLocation=\"http://www.zillow.com/static/xsd/SearchResults.xsd https://www.zillowstatic.com/vstatic/7de9b24/static/xsd/SearchResults.xsd\" xmlns:xsi=\"http://www.w3.org/2001/XMLSchema-instance\" xmlns:SearchResults=\"http://www.zillow.com/static/xsd/SearchResults.xsd\"><request><address></address><citystatezip></citystatezip></request><message><text>Error: this account is not authorized to execute this API call</text><code>6</code></message></SearchResults:searchresults><!-- H:048  T:12ms  S:150  R:Tue Apr 16 09:54:37 PDT 2019  B:5.0.59689.5-hotfix_2019-04-10.a4901c4~hotfix-platform-for-2019-04-10.5bf180c -->'}"
     ]
    }
   ],
   "source": [
    "address = \"3400 Pacific Ave., Marina Del Rey, CA\"\n",
    "postal_code = \"90292\"\n",
    "\n",
    "data = api.GetDeepSearchResults('X1-ZWz17zkrx7qe4r_517ck', address, postal_code)"
   ]
  },
  {
   "cell_type": "code",
   "execution_count": null,
   "metadata": {},
   "outputs": [],
   "source": []
  }
 ],
 "metadata": {
  "kernelspec": {
   "display_name": "Python 3",
   "language": "python",
   "name": "python3"
  },
  "language_info": {
   "codemirror_mode": {
    "name": "ipython",
    "version": 3
   },
   "file_extension": ".py",
   "mimetype": "text/x-python",
   "name": "python",
   "nbconvert_exporter": "python",
   "pygments_lexer": "ipython3",
   "version": "3.6.8"
  }
 },
 "nbformat": 4,
 "nbformat_minor": 2
}
