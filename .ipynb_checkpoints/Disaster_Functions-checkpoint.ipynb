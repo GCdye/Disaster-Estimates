{
 "cells": [
  {
   "cell_type": "markdown",
   "metadata": {},
   "source": [
    "# Estimating Disaster Costs \n",
    "### General Assembly Data Science Immersive Client Project\n",
    "#### By: Greg Chuck Dye, Jose Cacho, Zachary Morris, Julian Oquendo\n",
    "***"
   ]
  },
  {
   "cell_type": "markdown",
   "metadata": {},
   "source": [
    "#### Necessary Libraries for Code Functionality"
   ]
  },
  {
   "cell_type": "code",
   "execution_count": 8,
   "metadata": {},
   "outputs": [],
   "source": [
    "import pandas as pd \n",
    "import numpy as np \n",
    "from uszipcode import SearchEngine\n",
    "search = SearchEngine(simple_zipcode=True)"
   ]
  },
  {
   "cell_type": "markdown",
   "metadata": {},
   "source": [
    "***\n",
    "The csv being read in operates as a back up, in the event that some zipcodes are not available or up to date. The csv of zipcodes is attached to this project in the project folder"
   ]
  },
  {
   "cell_type": "code",
   "execution_count": 2,
   "metadata": {},
   "outputs": [],
   "source": [
    "all_zip = pd.read_csv('./all_zipcodes.csv')"
   ]
  },
  {
   "cell_type": "code",
   "execution_count": 3,
   "metadata": {},
   "outputs": [],
   "source": [
    "all_zip.fillna(0, inplace=True)"
   ]
  },
  {
   "cell_type": "markdown",
   "metadata": {},
   "source": [
    "***\n",
    "### The Interpretation\n",
    "##### As built by Greg Chuck Dye\n",
    "This is a straightforward function that presents the output in an easy to interpret manner. "
   ]
  },
  {
   "cell_type": "code",
   "execution_count": 4,
   "metadata": {},
   "outputs": [],
   "source": [
    "#Small function that makes output damage cost easier to read, Basic premise is to format the string\n",
    "#split it by commas, then grab the first integer block based on how many blocks we can add millions/billions \n",
    "#or even trillions of dollars. it then returns 75%-100% of the total to give a wide estimate. This function is \n",
    "#called only in the main search function below\n",
    "def function_total(total_damage):\n",
    "    #converting to integer\n",
    "    convert = int(total_damage)\n",
    "#     formating in commas\n",
    "    formater = format(convert, ',')\n",
    "#series of if statements to decide whether to use millions/billions ect.\n",
    "    if len(formater.split(',')) == 3:\n",
    "        print(f'Estimated damage between {int(formater[0]) * .75} and {formater[0]} Million dollars')\n",
    "    elif len(formater.split(',')) == 2:\n",
    "        print(f'Estimated damage between {int(formater[0]) * .75} and {formater[0]} Thousand dollars') \n",
    "    elif len(formater.split(',')) == 4:\n",
    "        print(f'Estimated damage between {int(formater[0]) * .75} and {formater[0]} Billion dollars')  \n",
    "    elif total_damage >= 1_000_000_000_000:\n",
    "        print(f'Estimated damage over 1 trillion dollars')\n",
    "    else: print(f'Estimated damage: {total_damage * .75}-{total_damage} dollars') "
   ]
  },
  {
   "cell_type": "markdown",
   "metadata": {},
   "source": [
    "***\n",
    "### The Function\n",
    "##### As built by Greg Chuck Dye\n",
    "\n",
    "Using a common function, the code reads from a known python library 'zipcodes', and interprets pricing based on the available data from this library. Where the information is not available, the code reads in from the existing csv file as described above. \n",
    "\n",
    "\"zipcodes\" library is used from Sanhe Hu's files: https://pypi.org/project/uszipcode/"
   ]
  },
  {
   "cell_type": "code",
   "execution_count": 5,
   "metadata": {},
   "outputs": [],
   "source": [
    "#main function that will take the epicenter for disaster, calculate area of affect, find all zipcodes in that area\n",
    "#and calculate a projected damage cost based on median home value and number of homes in area. with a penalty reduction\n",
    "#assuming not all homes were destroyed.\n",
    "#entering damage_radius and percent are optional, The code will revert to standard values based on previous disaster type\n",
    "def main_search(Zip, disaster_type, damage_radius=None, damage_percent=None):\n",
    "    try:\n",
    "    #setting dictionary for area covered by disaster, in KM   \n",
    "        disaster_dist = {\n",
    "            'hurricane': 100,\n",
    "            'flood': 50,\n",
    "            'fire':.5\n",
    "        }\n",
    "    #setting the effect ratio based on research from last 5 disasters by type, \n",
    "    #(More info needed for more accurate calculations)\n",
    "        disaster_effect = {\n",
    "            'hurricane': .1,\n",
    "            'flood' : .81,\n",
    "            'fire': 1\n",
    "        }\n",
    "        if damage_radius == None:\n",
    "            radius = disaster_dist[disaster_type]\n",
    "        else:\n",
    "            radius = damage_radius\n",
    "        if damage_percent == None:\n",
    "            damage = disaster_effect[disaster_type]\n",
    "        else:\n",
    "            damage = damage_percent\n",
    "            \n",
    "        #instantiate the search engine\n",
    "        search = SearchEngine(simple_zipcode=True)\n",
    "        #searching for epicenter zipcode\n",
    "        zipcode = search.by_zipcode(str(Zip))\n",
    "        #Setting result as a list with every zipcode within a certain range. \n",
    "        result = search.by_coordinates(zipcode.lat,zipcode.lng, radius= radius, returns=25)\n",
    "        #printing the median household value for epicenter zipcode \n",
    "        print(f'The median house value of {Zip} ({zipcode.major_city}) is: {zipcode.median_home_value}')\n",
    "        #iterate through our results and getting median home value times number of housing units in each zipcode effected by hurricane \n",
    "        value = 0\n",
    "        \n",
    "        for i in result:\n",
    "            zipcode = i.zipcode\n",
    "            try: \n",
    "            #Try and except statements to account for null values where no houses exist.\n",
    "                #totaling up the maximum possible damage \n",
    "                value += all_zip['median_house_value'][int(zipcode)] * all_zip['housing_units'][int(zipcode)]\n",
    "                \n",
    "            except:\n",
    "                pass\n",
    "        #Printing the total damage done minus the penalty for the specific disaster/input of percent of homes damaged. \n",
    "        total_value = value * damage\n",
    "        #\n",
    "        function_total(total_value)\n",
    "        \n",
    "    except KeyError:\n",
    "        print('Zipcode was not found/ was invalid')"
   ]
  },
  {
   "cell_type": "markdown",
   "metadata": {},
   "source": [
    "***\n",
    "### The Output\n",
    "Using the function below, write in your desired zip code, followed by the type of disaster. The types of disasters can include: \n",
    "\n",
    "- hurricane\n",
    "- fire\n",
    "- flood\n",
    "\n",
    "The output will include the median value of a house and an estimated damage amount for a specific zip code. "
   ]
  },
  {
   "cell_type": "code",
   "execution_count": 6,
   "metadata": {},
   "outputs": [
    {
     "name": "stdout",
     "output_type": "stream",
     "text": [
      "The median house value of 21791 (Union Bridge) is: 319800\n",
      "Estimated damage between 0.75 and 1 Billion dollars\n"
     ]
    }
   ],
   "source": [
    "#test\n",
    "main_search(21791, 'hurricane', )"
   ]
  }
 ],
 "metadata": {
  "kernelspec": {
   "display_name": "Python 3",
   "language": "python",
   "name": "python3"
  },
  "language_info": {
   "codemirror_mode": {
    "name": "ipython",
    "version": 3
   },
   "file_extension": ".py",
   "mimetype": "text/x-python",
   "name": "python",
   "nbconvert_exporter": "python",
   "pygments_lexer": "ipython3",
   "version": "3.7.2"
  }
 },
 "nbformat": 4,
 "nbformat_minor": 2
}
