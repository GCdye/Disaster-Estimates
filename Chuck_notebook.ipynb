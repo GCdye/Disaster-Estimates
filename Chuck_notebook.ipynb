{
 "cells": [
  {
   "cell_type": "code",
   "execution_count": 4,
   "metadata": {},
   "outputs": [],
   "source": [
    "import pandas as pd \n",
    "import numpy as np \n",
    "from bs4 import BeautifulSoup\n",
    "from selenium import webdriver\n",
    "import requests"
   ]
  },
  {
   "cell_type": "code",
   "execution_count": 5,
   "metadata": {},
   "outputs": [
    {
     "name": "stdout",
     "output_type": "stream",
     "text": [
      "Requirement already satisfied: uszipcode in /Users/chuckdye/anaconda3/lib/python3.6/site-packages (0.2.2)\n",
      "Requirement already satisfied: sqlalchemy in /Users/chuckdye/anaconda3/lib/python3.6/site-packages (from uszipcode) (1.3.1)\n",
      "Requirement already satisfied: attrs in /Users/chuckdye/anaconda3/lib/python3.6/site-packages (from uszipcode) (19.1.0)\n",
      "Requirement already satisfied: pathlib-mate in /Users/chuckdye/anaconda3/lib/python3.6/site-packages (from uszipcode) (0.0.15)\n",
      "Requirement already satisfied: requests in /Users/chuckdye/anaconda3/lib/python3.6/site-packages (from uszipcode) (2.21.0)\n",
      "Requirement already satisfied: six in /Users/chuckdye/anaconda3/lib/python3.6/site-packages (from pathlib-mate->uszipcode) (1.12.0)\n",
      "Requirement already satisfied: autopep8 in /Users/chuckdye/anaconda3/lib/python3.6/site-packages (from pathlib-mate->uszipcode) (1.4.4)\n",
      "Requirement already satisfied: idna<2.9,>=2.5 in /Users/chuckdye/anaconda3/lib/python3.6/site-packages (from requests->uszipcode) (2.8)\n",
      "Requirement already satisfied: certifi>=2017.4.17 in /Users/chuckdye/anaconda3/lib/python3.6/site-packages (from requests->uszipcode) (2019.3.9)\n",
      "Requirement already satisfied: chardet<3.1.0,>=3.0.2 in /Users/chuckdye/anaconda3/lib/python3.6/site-packages (from requests->uszipcode) (3.0.4)\n",
      "Requirement already satisfied: urllib3<1.25,>=1.21.1 in /Users/chuckdye/anaconda3/lib/python3.6/site-packages (from requests->uszipcode) (1.24.1)\n",
      "Requirement already satisfied: pycodestyle>=2.4.0 in /Users/chuckdye/anaconda3/lib/python3.6/site-packages (from autopep8->pathlib-mate->uszipcode) (2.5.0)\n",
      "Note: you may need to restart the kernel to use updated packages.\n"
     ]
    }
   ],
   "source": [
    "pip install uszipcode\n"
   ]
  },
  {
   "cell_type": "code",
   "execution_count": 6,
   "metadata": {},
   "outputs": [],
   "source": [
    "from uszipcode import SearchEngine\n",
    "\n",
    "search = SearchEngine(simple_zipcode=True)"
   ]
  },
  {
   "cell_type": "code",
   "execution_count": 7,
   "metadata": {
    "scrolled": true
   },
   "outputs": [],
   "source": []
  },
  {
   "cell_type": "code",
   "execution_count": 31,
   "metadata": {},
   "outputs": [],
   "source": []
  },
  {
   "cell_type": "code",
   "execution_count": 52,
   "metadata": {},
   "outputs": [
    {
     "ename": "SyntaxError",
     "evalue": "f-string: mismatched '(', '{', or '[' (<ipython-input-52-db9af770f6b3>, line 37)",
     "output_type": "error",
     "traceback": [
      "\u001b[0;36m  File \u001b[0;32m\"<ipython-input-52-db9af770f6b3>\"\u001b[0;36m, line \u001b[0;32m37\u001b[0m\n\u001b[0;31m    print(f'Total damage to be expected is: {format(value * disaster_effect[disaster_type], ',')} dollars for a {disaster_type}')\u001b[0m\n\u001b[0m         ^\u001b[0m\n\u001b[0;31mSyntaxError\u001b[0m\u001b[0;31m:\u001b[0m f-string: mismatched '(', '{', or '['\n"
     ]
    }
   ],
   "source": [
    "#main function that will take the epicenter for disaster, calculate area of affect, find all zipcodes in that area\n",
    "#and calculate a projected damage cost based on median home value and number of homes in area. with a penalty reduction\n",
    "#assuming not all homes were destroyed.\n",
    "def main_search(Zip, disaster_type):\n",
    "    try:\n",
    "    #setting dictionary for area covered by disaster, in KM   \n",
    "        disaster_dist = {\n",
    "            'hurricane': 100,\n",
    "            'flood': 50,\n",
    "            'fire':.5\n",
    "        }\n",
    "    #setting the effect ratio based on research from last 5 disasters by type, \n",
    "    #(More info needed for more accurate calculations)\n",
    "        disaster_effect = {\n",
    "            'hurricane': .1,\n",
    "            'flood' : .81,\n",
    "            'fire': 1\n",
    "        }\n",
    "        #instantiate the search engine\n",
    "        search = SearchEngine(simple_zipcode=True)\n",
    "        #searching for epicenter zipcode\n",
    "        zipcode = search.by_zipcode(str(Zip))\n",
    "        #Setting result as a list with every zipcode within a certain range. \n",
    "        result = search.by_coordinates(zipcode.lat,zipcode.lng, radius= (disaster_dist[disaster_type]), returns=1000)\n",
    "        #printing the median household value for epicenter zipcode \n",
    "        print(f'The median house value of {Zip} ({zipcode.major_city}) is: {zipcode.median_home_value}')\n",
    "        #iterate through our results and getting median home value times number of housing units in each zipcode effected by hurricane \n",
    "        value = 0\n",
    "        for i in result:\n",
    "\n",
    "            try: \n",
    "            #Try and except statements to account for null values where no houses exist.\n",
    "                value += i.median_home_value * i.housing_units\n",
    "            except:\n",
    "                pass\n",
    "        #Printing the total damage done minus the penalty for the specific disaster. \n",
    "        print(f'Total damage to be expected is: {format(value * disaster_effect[disaster_type], ',')} dollars for a {disaster_type}')\n",
    "    except:\n",
    "        print('Zipcode was not found/ was invalid')"
   ]
  },
  {
   "cell_type": "code",
   "execution_count": 48,
   "metadata": {},
   "outputs": [
    {
     "name": "stdout",
     "output_type": "stream",
     "text": [
      "The median house value of 21791 (Union Bridge) is: 319800\n",
      "Total damage to be expected is: 161906679200.0 dollars for a hurricane\n"
     ]
    }
   ],
   "source": [
    "main_search('21791', 'hurricane')"
   ]
  },
  {
   "cell_type": "code",
   "execution_count": null,
   "metadata": {},
   "outputs": [],
   "source": []
  },
  {
   "cell_type": "code",
   "execution_count": null,
   "metadata": {},
   "outputs": [],
   "source": []
  }
 ],
 "metadata": {
  "kernelspec": {
   "display_name": "Python 3",
   "language": "python",
   "name": "python3"
  },
  "language_info": {
   "codemirror_mode": {
    "name": "ipython",
    "version": 3
   },
   "file_extension": ".py",
   "mimetype": "text/x-python",
   "name": "python",
   "nbconvert_exporter": "python",
   "pygments_lexer": "ipython3",
   "version": "3.6.8"
  }
 },
 "nbformat": 4,
 "nbformat_minor": 2
}
