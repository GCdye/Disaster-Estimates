{
 "cells": [
  {
   "cell_type": "code",
   "execution_count": 1,
   "metadata": {},
   "outputs": [],
   "source": [
    "import pandas as pd \n",
    "import numpy as np \n",
    "from bs4 import BeautifulSoup\n",
    "from selenium import webdriver\n",
    "import requests"
   ]
  },
  {
   "cell_type": "code",
   "execution_count": 2,
   "metadata": {},
   "outputs": [
    {
     "name": "stdout",
     "output_type": "stream",
     "text": [
      "Requirement already satisfied: uszipcode in /Users/chuckdye/anaconda3/lib/python3.6/site-packages (0.2.2)\n",
      "Requirement already satisfied: pathlib-mate in /Users/chuckdye/anaconda3/lib/python3.6/site-packages (from uszipcode) (0.0.15)\n",
      "Requirement already satisfied: sqlalchemy in /Users/chuckdye/anaconda3/lib/python3.6/site-packages (from uszipcode) (1.3.1)\n",
      "Requirement already satisfied: requests in /Users/chuckdye/anaconda3/lib/python3.6/site-packages (from uszipcode) (2.21.0)\n",
      "Requirement already satisfied: attrs in /Users/chuckdye/anaconda3/lib/python3.6/site-packages (from uszipcode) (19.1.0)\n",
      "Requirement already satisfied: six in /Users/chuckdye/anaconda3/lib/python3.6/site-packages (from pathlib-mate->uszipcode) (1.12.0)\n",
      "Requirement already satisfied: autopep8 in /Users/chuckdye/anaconda3/lib/python3.6/site-packages (from pathlib-mate->uszipcode) (1.4.4)\n",
      "Requirement already satisfied: certifi>=2017.4.17 in /Users/chuckdye/anaconda3/lib/python3.6/site-packages (from requests->uszipcode) (2019.3.9)\n",
      "Requirement already satisfied: chardet<3.1.0,>=3.0.2 in /Users/chuckdye/anaconda3/lib/python3.6/site-packages (from requests->uszipcode) (3.0.4)\n",
      "Requirement already satisfied: idna<2.9,>=2.5 in /Users/chuckdye/anaconda3/lib/python3.6/site-packages (from requests->uszipcode) (2.8)\n",
      "Requirement already satisfied: urllib3<1.25,>=1.21.1 in /Users/chuckdye/anaconda3/lib/python3.6/site-packages (from requests->uszipcode) (1.24.1)\n",
      "Requirement already satisfied: pycodestyle>=2.4.0 in /Users/chuckdye/anaconda3/lib/python3.6/site-packages (from autopep8->pathlib-mate->uszipcode) (2.5.0)\n",
      "Note: you may need to restart the kernel to use updated packages.\n"
     ]
    }
   ],
   "source": [
    "pip install uszipcode\n"
   ]
  },
  {
   "cell_type": "code",
   "execution_count": 3,
   "metadata": {},
   "outputs": [],
   "source": [
    "from uszipcode import SearchEngine\n",
    "\n",
    "search = SearchEngine(simple_zipcode=True)"
   ]
  },
  {
   "cell_type": "code",
   "execution_count": null,
   "metadata": {
    "scrolled": true
   },
   "outputs": [],
   "source": []
  },
  {
   "cell_type": "code",
   "execution_count": null,
   "metadata": {},
   "outputs": [],
   "source": []
  },
  {
   "cell_type": "code",
   "execution_count": 4,
   "metadata": {},
   "outputs": [],
   "source": [
    "#main function that will take the epicenter for disaster, calculate area of affect, find all zipcodes in that area\n",
    "#and calculate a projected damage cost based on median home value and number of homes in area. with a penalty reduction\n",
    "#assuming not all homes were destroyed.\n",
    "def main_search(Zip, disaster_type):\n",
    "    try:\n",
    "    #setting dictionary for area covered by disaster, in KM   \n",
    "        disaster_dist = {\n",
    "            'hurricane': 100,\n",
    "            'flood': 50,\n",
    "            'fire':.5\n",
    "        }\n",
    "    #setting the effect ratio based on research from last 5 disasters by type, \n",
    "    #(More info needed for more accurate calculations)\n",
    "        disaster_effect = {\n",
    "            'hurricane': .1,\n",
    "            'flood' : .81,\n",
    "            'fire': 1\n",
    "        }\n",
    "        #instantiate the search engine\n",
    "        search = SearchEngine(simple_zipcode=True)\n",
    "        #searching for epicenter zipcode\n",
    "        zipcode = search.by_zipcode(str(Zip))\n",
    "        #Setting result as a list with every zipcode within a certain range. \n",
    "        result = search.by_coordinates(zipcode.lat,zipcode.lng, radius= (disaster_dist[disaster_type]), returns=1000)\n",
    "        #printing the median household value for epicenter zipcode \n",
    "        print(f'The median house value of {Zip} ({zipcode.major_city}) is: {zipcode.median_home_value}')\n",
    "        #iterate through our results and getting median home value times number of housing units in each zipcode effected by hurricane \n",
    "        value = 0\n",
    "        for i in result:\n",
    "\n",
    "            try: \n",
    "            #Try and except statements to account for null values where no houses exist.\n",
    "                value += i.median_home_value * i.housing_units\n",
    "            except:\n",
    "                pass\n",
    "        #Printing the total damage done minus the penalty for the specific disaster. \n",
    "        total_value = value * disaster_effect[disaster_type]\n",
    "        function_total(total_value), print(f'for a {disaster_type}')\n",
    "        \n",
    "    except:\n",
    "        print('Zipcode was not found/ was invalid')"
   ]
  },
  {
   "cell_type": "code",
   "execution_count": 5,
   "metadata": {},
   "outputs": [
    {
     "name": "stdout",
     "output_type": "stream",
     "text": [
      "The median house value of 21201 (Baltimore) is: 208500\n",
      "Zipcode was not found/ was invalid\n"
     ]
    }
   ],
   "source": [
    "main_search('21201', 'flood')"
   ]
  },
  {
   "cell_type": "code",
   "execution_count": 6,
   "metadata": {},
   "outputs": [],
   "source": [
    "def function_total(total_damage):\n",
    "    convert = int(total_damage)\n",
    "    formater = format(convert, ',')\n",
    "    \n",
    "    if len(formater.split(',')) == 3:\n",
    "        print(f'Estimated damage between {int(formater[0]) * .75} and {formater[0]} Million dollars')\n",
    "    elif len(formater.split(',')) == 2:\n",
    "        print(f'Estimated damage between {int(formater[0]) * .75} and {formater[0]} Thousand dollars') \n",
    "    elif len(formater.split(',')) == 4:\n",
    "        print(f'Estimated damage between {int(formater[0]) * .75} and {formater[0]} Billion dollars')  \n",
    "    elif total_damage >= 1_000_000_000_000:\n",
    "        print(f'Estimated damage over 1 trillion dollars')\n",
    "    else: print(f'Estimated damage: {total_damage * .75}-{total_damage} dollars')    "
   ]
  },
  {
   "cell_type": "code",
   "execution_count": 7,
   "metadata": {},
   "outputs": [
    {
     "name": "stdout",
     "output_type": "stream",
     "text": [
      "Estimated damage between 0.75 and 1 Billion dollars\n"
     ]
    }
   ],
   "source": [
    "function_total(1000000000)"
   ]
  },
  {
   "cell_type": "code",
   "execution_count": null,
   "metadata": {},
   "outputs": [],
   "source": []
  },
  {
   "cell_type": "code",
   "execution_count": null,
   "metadata": {},
   "outputs": [],
   "source": []
  },
  {
   "cell_type": "code",
   "execution_count": 10,
   "metadata": {},
   "outputs": [],
   "source": [
    "all_zip = {}"
   ]
  },
  {
   "cell_type": "code",
   "execution_count": 11,
   "metadata": {},
   "outputs": [],
   "source": [
    "new_zip = search.by_zipcode(10001)"
   ]
  },
  {
   "cell_type": "code",
   "execution_count": 12,
   "metadata": {},
   "outputs": [
    {
     "data": {
      "text/plain": [
       "['718', '917', '347', '646']"
      ]
     },
     "execution_count": 12,
     "metadata": {},
     "output_type": "execute_result"
    }
   ],
   "source": [
    "new_zip.area_code_list"
   ]
  },
  {
   "cell_type": "code",
   "execution_count": 13,
   "metadata": {},
   "outputs": [],
   "source": [
    "for i in range( 10000,99999):\n",
    "    new_zip = search.by_zipcode(str(i))\n",
    "    if new_zip.population != None:\n",
    "        all_zip[i] = {'latt'              : new_zip.lat,\n",
    "                      'long'              : new_zip.lng,\n",
    "                      'median_house_value': new_zip.median_home_value,\n",
    "                      'housing_units'     : new_zip.housing_units,\n",
    "                      'population'        : new_zip.population}"
   ]
  },
  {
   "cell_type": "code",
   "execution_count": 14,
   "metadata": {},
   "outputs": [],
   "source": [
    "all_zip = pd.DataFrame(all_zip).T"
   ]
  },
  {
   "cell_type": "code",
   "execution_count": 15,
   "metadata": {
    "scrolled": true
   },
   "outputs": [
    {
     "data": {
      "text/plain": [
       "(30562, 5)"
      ]
     },
     "execution_count": 15,
     "metadata": {},
     "output_type": "execute_result"
    }
   ],
   "source": [
    "all_zip.shape"
   ]
  },
  {
   "cell_type": "code",
   "execution_count": 16,
   "metadata": {},
   "outputs": [
    {
     "data": {
      "text/html": [
       "<div>\n",
       "<style scoped>\n",
       "    .dataframe tbody tr th:only-of-type {\n",
       "        vertical-align: middle;\n",
       "    }\n",
       "\n",
       "    .dataframe tbody tr th {\n",
       "        vertical-align: top;\n",
       "    }\n",
       "\n",
       "    .dataframe thead th {\n",
       "        text-align: right;\n",
       "    }\n",
       "</style>\n",
       "<table border=\"1\" class=\"dataframe\">\n",
       "  <thead>\n",
       "    <tr style=\"text-align: right;\">\n",
       "      <th></th>\n",
       "      <th>housing_units</th>\n",
       "      <th>latt</th>\n",
       "      <th>long</th>\n",
       "      <th>median_house_value</th>\n",
       "      <th>population</th>\n",
       "    </tr>\n",
       "  </thead>\n",
       "  <tbody>\n",
       "    <tr>\n",
       "      <th>10001</th>\n",
       "      <td>12476.0</td>\n",
       "      <td>40.750</td>\n",
       "      <td>-73.990</td>\n",
       "      <td>650200.0</td>\n",
       "      <td>21102.0</td>\n",
       "    </tr>\n",
       "    <tr>\n",
       "      <th>10002</th>\n",
       "      <td>34541.0</td>\n",
       "      <td>40.720</td>\n",
       "      <td>-73.990</td>\n",
       "      <td>535600.0</td>\n",
       "      <td>81410.0</td>\n",
       "    </tr>\n",
       "    <tr>\n",
       "      <th>10003</th>\n",
       "      <td>31078.0</td>\n",
       "      <td>40.730</td>\n",
       "      <td>-73.990</td>\n",
       "      <td>817700.0</td>\n",
       "      <td>56024.0</td>\n",
       "    </tr>\n",
       "    <tr>\n",
       "      <th>10004</th>\n",
       "      <td>2197.0</td>\n",
       "      <td>40.700</td>\n",
       "      <td>-74.020</td>\n",
       "      <td>894200.0</td>\n",
       "      <td>3089.0</td>\n",
       "    </tr>\n",
       "    <tr>\n",
       "      <th>10005</th>\n",
       "      <td>5317.0</td>\n",
       "      <td>40.705</td>\n",
       "      <td>-74.005</td>\n",
       "      <td>1000001.0</td>\n",
       "      <td>7135.0</td>\n",
       "    </tr>\n",
       "  </tbody>\n",
       "</table>\n",
       "</div>"
      ],
      "text/plain": [
       "       housing_units    latt    long  median_house_value  population\n",
       "10001        12476.0  40.750 -73.990            650200.0     21102.0\n",
       "10002        34541.0  40.720 -73.990            535600.0     81410.0\n",
       "10003        31078.0  40.730 -73.990            817700.0     56024.0\n",
       "10004         2197.0  40.700 -74.020            894200.0      3089.0\n",
       "10005         5317.0  40.705 -74.005           1000001.0      7135.0"
      ]
     },
     "execution_count": 16,
     "metadata": {},
     "output_type": "execute_result"
    }
   ],
   "source": [
    "all_zip.head()"
   ]
  },
  {
   "cell_type": "code",
   "execution_count": 17,
   "metadata": {},
   "outputs": [],
   "source": [
    "all_zip.to_csv('./all_zipcodes.csv')"
   ]
  },
  {
   "cell_type": "code",
   "execution_count": 73,
   "metadata": {},
   "outputs": [],
   "source": [
    "#main function that will take the epicenter for disaster, calculate area of affect, find all zipcodes in that area\n",
    "#and calculate a projected damage cost based on median home value and number of homes in area. with a penalty reduction\n",
    "#assuming not all homes were destroyed.\n",
    "def main_search2(Zip, disaster_type, damage_radius=None, damage_percent=None):\n",
    "    try:\n",
    "    #setting dictionary for area covered by disaster, in KM   \n",
    "        disaster_dist = {\n",
    "            'hurricane': 100,\n",
    "            'flood': 50,\n",
    "            'fire':.5\n",
    "        }\n",
    "    #setting the effect ratio based on research from last 5 disasters by type, \n",
    "    #(More info needed for more accurate calculations)\n",
    "        disaster_effect = {\n",
    "            'hurricane': .1,\n",
    "            'flood' : .81,\n",
    "            'fire': 1\n",
    "        }\n",
    "        if damage_radius == None:\n",
    "            radius = disaster_dist[disaster_type]\n",
    "        else:\n",
    "            radius = damage_radius\n",
    "        if damage_percent == None:\n",
    "            damage = disaster_effect[disaster_type]\n",
    "        else:\n",
    "            damage = damage_percent\n",
    "            \n",
    "        #instantiate the search engine\n",
    "        search = SearchEngine(simple_zipcode=True)\n",
    "        #searching for epicenter zipcode\n",
    "        zipcode = search.by_zipcode(str(Zip))\n",
    "        #Setting result as a list with every zipcode within a certain range. \n",
    "        result = search.by_coordinates(zipcode.lat,zipcode.lng, radius= radius, returns=25)\n",
    "        #printing the median household value for epicenter zipcode \n",
    "        print(f'The median house value of {Zip} ({zipcode.major_city}) is: {zipcode.median_home_value}')\n",
    "        #iterate through our results and getting median home value times number of housing units in each zipcode effected by hurricane \n",
    "        value = 0\n",
    "        \n",
    "        for i in result:\n",
    "            zipcode = i.zipcode\n",
    "            try: \n",
    "            #Try and except statements to account for null values where no houses exist.\n",
    "                \n",
    "                value += all_zip['median_house_value'][int(zipcode)] * all_zip['housing_units'][int(zipcode)]\n",
    "                \n",
    "            except:\n",
    "                pass\n",
    "        #Printing the total damage done minus the penalty for the specific disaster. \n",
    "        total_value = value * damage\n",
    "        function_total(total_value)\n",
    "        \n",
    "    except KeyError:\n",
    "        print('Zipcode was not found/ was invalid')"
   ]
  },
  {
   "cell_type": "code",
   "execution_count": 69,
   "metadata": {},
   "outputs": [],
   "source": [
    "all_zip.fillna(0,inplace=True)"
   ]
  },
  {
   "cell_type": "code",
   "execution_count": 75,
   "metadata": {},
   "outputs": [
    {
     "name": "stdout",
     "output_type": "stream",
     "text": [
      "The median house value of 21201 (Baltimore) is: 208500\n",
      "Estimated damage between 2.25 and 3 Billion dollars\n"
     ]
    }
   ],
   "source": [
    "main_search2('21201', 'hurricane', damage_percent=0.5, damage_radius=10)"
   ]
  },
  {
   "cell_type": "code",
   "execution_count": 59,
   "metadata": {},
   "outputs": [
    {
     "ename": "NameError",
     "evalue": "name 'list2' is not defined",
     "output_type": "error",
     "traceback": [
      "\u001b[0;31m---------------------------------------------------------------------------\u001b[0m",
      "\u001b[0;31mNameError\u001b[0m                                 Traceback (most recent call last)",
      "\u001b[0;32m<ipython-input-59-017990ea2ce6>\u001b[0m in \u001b[0;36m<module>\u001b[0;34m\u001b[0m\n\u001b[0;32m----> 1\u001b[0;31m \u001b[0mlist2\u001b[0m\u001b[0;34m\u001b[0m\u001b[0;34m\u001b[0m\u001b[0m\n\u001b[0m",
      "\u001b[0;31mNameError\u001b[0m: name 'list2' is not defined"
     ]
    }
   ],
   "source": [
    "list2"
   ]
  },
  {
   "cell_type": "code",
   "execution_count": 25,
   "metadata": {},
   "outputs": [
    {
     "data": {
      "text/plain": [
       "202200.0"
      ]
     },
     "execution_count": 25,
     "metadata": {},
     "output_type": "execute_result"
    }
   ],
   "source": [
    "all_zip['median_house_value'][21202]"
   ]
  },
  {
   "cell_type": "code",
   "execution_count": null,
   "metadata": {},
   "outputs": [],
   "source": [
    "Session.rollback()"
   ]
  },
  {
   "cell_type": "code",
   "execution_count": 27,
   "metadata": {},
   "outputs": [],
   "source": [
    "zipcode = search.by_zipcode(21201)"
   ]
  },
  {
   "cell_type": "code",
   "execution_count": 38,
   "metadata": {},
   "outputs": [
    {
     "name": "stdout",
     "output_type": "stream",
     "text": [
      "208500.0\n",
      "202200.0\n",
      "269800.0\n",
      "80200.0\n",
      "112900.0\n",
      "224600.0\n",
      "55900.0\n",
      "192900.0\n",
      "152900.0\n",
      "102700.0\n",
      "108600.0\n",
      "136100.0\n",
      "441700.0\n",
      "176500.0\n",
      "222600.0\n",
      "185000.0\n",
      "131200.0\n",
      "183100.0\n",
      "162400.0\n",
      "279100.0\n",
      "195000.0\n",
      "158500.0\n",
      "291100.0\n",
      "280500.0\n",
      "155800.0\n",
      "227600.0\n",
      "296400.0\n",
      "424300.0\n",
      "226400.0\n",
      "268500.0\n",
      "213500.0\n",
      "240200.0\n",
      "306100.0\n",
      "nan\n",
      "216400.0\n",
      "247900.0\n",
      "325200.0\n",
      "195300.0\n",
      "242100.0\n",
      "460400.0\n",
      "368200.0\n",
      "231300.0\n",
      "351100.0\n",
      "251200.0\n",
      "236000.0\n",
      "202100.0\n",
      "342000.0\n",
      "345000.0\n",
      "341000.0\n",
      "447900.0\n",
      "308000.0\n",
      "339200.0\n",
      "279600.0\n",
      "288100.0\n",
      "nan\n",
      "387300.0\n",
      "372700.0\n",
      "467500.0\n",
      "394700.0\n",
      "562600.0\n",
      "475200.0\n",
      "434100.0\n",
      "221900.0\n",
      "nan\n",
      "310200.0\n",
      "561800.0\n",
      "306700.0\n",
      "382800.0\n",
      "391400.0\n",
      "340700.0\n",
      "477400.0\n",
      "286900.0\n",
      "370100.0\n",
      "428700.0\n",
      "288600.0\n",
      "310600.0\n",
      "388500.0\n",
      "449400.0\n",
      "259200.0\n",
      "839300.0\n",
      "389800.0\n",
      "nan\n",
      "660200.0\n",
      "704100.0\n",
      "671000.0\n",
      "386700.0\n",
      "388800.0\n",
      "285800.0\n",
      "557500.0\n",
      "359400.0\n",
      "308100.0\n",
      "176200.0\n",
      "317300.0\n",
      "656500.0\n",
      "567300.0\n",
      "703200.0\n",
      "362500.0\n",
      "396500.0\n",
      "758000.0\n",
      "323200.0\n",
      "406300.0\n",
      "255000.0\n",
      "739600.0\n",
      "369800.0\n",
      "299300.0\n",
      "429100.0\n",
      "698700.0\n",
      "nan\n",
      "300200.0\n",
      "650200.0\n",
      "368800.0\n",
      "634400.0\n",
      "272900.0\n",
      "475900.0\n",
      "456800.0\n",
      "592600.0\n",
      "400300.0\n",
      "812000.0\n",
      "338400.0\n",
      "210900.0\n",
      "629500.0\n",
      "371600.0\n",
      "207700.0\n",
      "319500.0\n",
      "375200.0\n",
      "418100.0\n",
      "283000.0\n",
      "283000.0\n",
      "536400.0\n",
      "369600.0\n",
      "267800.0\n",
      "283500.0\n",
      "261700.0\n",
      "469100.0\n",
      "226100.0\n",
      "326500.0\n",
      "379600.0\n",
      "311700.0\n",
      "321600.0\n",
      "229400.0\n",
      "388000.0\n",
      "227900.0\n",
      "311900.0\n",
      "379500.0\n",
      "227300.0\n",
      "227700.0\n",
      "396400.0\n",
      "355500.0\n",
      "345000.0\n",
      "257500.0\n",
      "540600.0\n",
      "291700.0\n",
      "430200.0\n",
      "268300.0\n",
      "nan\n",
      "453900.0\n",
      "229500.0\n",
      "207100.0\n",
      "224900.0\n",
      "307700.0\n",
      "304900.0\n",
      "432400.0\n",
      "348600.0\n",
      "245200.0\n",
      "505500.0\n",
      "298500.0\n",
      "203900.0\n"
     ]
    }
   ],
   "source": [
    "\n",
    "result = search.by_coordinates(zipcode.lat,zipcode.lng, radius= 30, returns=1000)\n",
    "value = 0\n",
    "for i in result:\n",
    "    print(all_zip['median_house_value'][int(i.zipcode)])"
   ]
  },
  {
   "cell_type": "code",
   "execution_count": null,
   "metadata": {},
   "outputs": [],
   "source": []
  }
 ],
 "metadata": {
  "kernelspec": {
   "display_name": "Python 3",
   "language": "python",
   "name": "python3"
  },
  "language_info": {
   "codemirror_mode": {
    "name": "ipython",
    "version": 3
   },
   "file_extension": ".py",
   "mimetype": "text/x-python",
   "name": "python",
   "nbconvert_exporter": "python",
   "pygments_lexer": "ipython3",
   "version": "3.6.8"
  }
 },
 "nbformat": 4,
 "nbformat_minor": 2
}
