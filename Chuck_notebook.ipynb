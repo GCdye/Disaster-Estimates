{
 "cells": [
  {
   "cell_type": "code",
   "execution_count": 2,
   "metadata": {},
   "outputs": [],
   "source": [
    "import pandas as pd \n",
    "import numpy as np \n",
    "from bs4 import BeautifulSoup\n",
    "from selenium import webdriver\n",
    "import requests"
   ]
  },
  {
   "cell_type": "code",
   "execution_count": 5,
   "metadata": {},
   "outputs": [
    {
     "name": "stdout",
     "output_type": "stream",
     "text": [
      "Requirement already satisfied: uszipcode in /Users/chuckdye/anaconda3/lib/python3.6/site-packages (0.2.2)\n",
      "Requirement already satisfied: sqlalchemy in /Users/chuckdye/anaconda3/lib/python3.6/site-packages (from uszipcode) (1.3.1)\n",
      "Requirement already satisfied: attrs in /Users/chuckdye/anaconda3/lib/python3.6/site-packages (from uszipcode) (19.1.0)\n",
      "Requirement already satisfied: pathlib-mate in /Users/chuckdye/anaconda3/lib/python3.6/site-packages (from uszipcode) (0.0.15)\n",
      "Requirement already satisfied: requests in /Users/chuckdye/anaconda3/lib/python3.6/site-packages (from uszipcode) (2.21.0)\n",
      "Requirement already satisfied: six in /Users/chuckdye/anaconda3/lib/python3.6/site-packages (from pathlib-mate->uszipcode) (1.12.0)\n",
      "Requirement already satisfied: autopep8 in /Users/chuckdye/anaconda3/lib/python3.6/site-packages (from pathlib-mate->uszipcode) (1.4.4)\n",
      "Requirement already satisfied: idna<2.9,>=2.5 in /Users/chuckdye/anaconda3/lib/python3.6/site-packages (from requests->uszipcode) (2.8)\n",
      "Requirement already satisfied: certifi>=2017.4.17 in /Users/chuckdye/anaconda3/lib/python3.6/site-packages (from requests->uszipcode) (2019.3.9)\n",
      "Requirement already satisfied: chardet<3.1.0,>=3.0.2 in /Users/chuckdye/anaconda3/lib/python3.6/site-packages (from requests->uszipcode) (3.0.4)\n",
      "Requirement already satisfied: urllib3<1.25,>=1.21.1 in /Users/chuckdye/anaconda3/lib/python3.6/site-packages (from requests->uszipcode) (1.24.1)\n",
      "Requirement already satisfied: pycodestyle>=2.4.0 in /Users/chuckdye/anaconda3/lib/python3.6/site-packages (from autopep8->pathlib-mate->uszipcode) (2.5.0)\n",
      "Note: you may need to restart the kernel to use updated packages.\n"
     ]
    }
   ],
   "source": [
    "pip install uszipcode\n"
   ]
  },
  {
   "cell_type": "code",
   "execution_count": 3,
   "metadata": {},
   "outputs": [],
   "source": [
    "from uszipcode import SearchEngine\n",
    "\n",
    "search = SearchEngine(simple_zipcode=True)"
   ]
  },
  {
   "cell_type": "code",
   "execution_count": 7,
   "metadata": {
    "scrolled": true
   },
   "outputs": [],
   "source": []
  },
  {
   "cell_type": "code",
   "execution_count": 31,
   "metadata": {},
   "outputs": [],
   "source": []
  },
  {
   "cell_type": "code",
   "execution_count": 3,
   "metadata": {},
   "outputs": [],
   "source": [
    "#main function that will take the epicenter for disaster, calculate area of affect, find all zipcodes in that area\n",
    "#and calculate a projected damage cost based on median home value and number of homes in area. with a penalty reduction\n",
    "#assuming not all homes were destroyed.\n",
    "def main_search(Zip, disaster_type):\n",
    "    try:\n",
    "    #setting dictionary for area covered by disaster, in KM   \n",
    "        disaster_dist = {\n",
    "            'hurricane': 100,\n",
    "            'flood': 50,\n",
    "            'fire':.5\n",
    "        }\n",
    "    #setting the effect ratio based on research from last 5 disasters by type, \n",
    "    #(More info needed for more accurate calculations)\n",
    "        disaster_effect = {\n",
    "            'hurricane': .1,\n",
    "            'flood' : .81,\n",
    "            'fire': 1\n",
    "        }\n",
    "        #instantiate the search engine\n",
    "        search = SearchEngine(simple_zipcode=True)\n",
    "        #searching for epicenter zipcode\n",
    "        zipcode = all\n",
    "        #Setting result as a list with every zipcode within a certain range. \n",
    "        result = search.by_coordinates(zipcode.lat,zipcode.lng, radius= (disaster_dist[disaster_type]), returns=1000)\n",
    "        #printing the median household value for epicenter zipcode \n",
    "        print(f'The median house value of {Zip} ({zipcode.major_city}) is: {zipcode.median_home_value}')\n",
    "        #iterate through our results and getting median home value times number of housing units in each zipcode effected by hurricane \n",
    "        value = 0\n",
    "        for i in result:\n",
    "\n",
    "            try: \n",
    "            #Try and except statements to account for null values where no houses exist.\n",
    "                value += i.median_home_value * i.housing_units\n",
    "            except:\n",
    "                pass\n",
    "        #Printing the total damage done minus the penalty for the specific disaster. \n",
    "        total_value = value * disaster_effect[disaster_type]\n",
    "        function_total(total_value), print(f'for a {disaster_type}')\n",
    "        \n",
    "    except:\n",
    "        print('Zipcode was not found/ was invalid')"
   ]
  },
  {
   "cell_type": "code",
   "execution_count": 1,
   "metadata": {},
   "outputs": [
    {
     "ename": "NameError",
     "evalue": "name 'main_search' is not defined",
     "output_type": "error",
     "traceback": [
      "\u001b[0;31m---------------------------------------------------------------------------\u001b[0m",
      "\u001b[0;31mNameError\u001b[0m                                 Traceback (most recent call last)",
      "\u001b[0;32m<ipython-input-1-9313cb7702da>\u001b[0m in \u001b[0;36m<module>\u001b[0;34m\u001b[0m\n\u001b[0;32m----> 1\u001b[0;31m \u001b[0mmain_search\u001b[0m\u001b[0;34m(\u001b[0m\u001b[0;34m'21201'\u001b[0m\u001b[0;34m,\u001b[0m \u001b[0;34m'flood'\u001b[0m\u001b[0;34m)\u001b[0m\u001b[0;34m\u001b[0m\u001b[0;34m\u001b[0m\u001b[0m\n\u001b[0m",
      "\u001b[0;31mNameError\u001b[0m: name 'main_search' is not defined"
     ]
    }
   ],
   "source": [
    "main_search('21201', 'flood')"
   ]
  },
  {
   "cell_type": "code",
   "execution_count": 83,
   "metadata": {},
   "outputs": [],
   "source": [
    "def function_total(total_damage):\n",
    "    convert = int(total_damage)\n",
    "    formater = format(convert, ',')\n",
    "    \n",
    "    if len(formater.split(',')) == 3:\n",
    "        print(f'Estimated damage between {int(formater[0]) * .75} and {formater[0]} Million dollars')\n",
    "    elif len(formater.split(',')) == 4:\n",
    "        print(f'Estimated damage between {int(formater[0]) * .75} and {formater[0]} Billion dollars')  \n",
    "    "
   ]
  },
  {
   "cell_type": "code",
   "execution_count": 84,
   "metadata": {},
   "outputs": [
    {
     "name": "stdout",
     "output_type": "stream",
     "text": [
      "Estimated damage between 0.75 and 1 Billion dollars\n"
     ]
    }
   ],
   "source": [
    "function_total(1000000000)"
   ]
  },
  {
   "cell_type": "code",
   "execution_count": 74,
   "metadata": {},
   "outputs": [
    {
     "data": {
      "text/plain": [
       "'61,906,679,200'"
      ]
     },
     "execution_count": 74,
     "metadata": {},
     "output_type": "execute_result"
    }
   ],
   "source": [
    "samp2"
   ]
  },
  {
   "cell_type": "code",
   "execution_count": 80,
   "metadata": {},
   "outputs": [
    {
     "name": "stdout",
     "output_type": "stream",
     "text": [
      "Estimated damage between 4.5 and 6 Billion dollars\n"
     ]
    }
   ],
   "source": [
    "if len(samp2.split(',')) == 3:\n",
    "    print(f'Estimated damage between {int(samp2[0]) * .75} and {samp2[0]} Million dollars')\n",
    "elif len(samp2.split(',')) == 4:\n",
    "    print(f'Estimated damage between {int(samp2[0]) * .75} and {samp2[0]} Billion dollars')  "
   ]
  },
  {
   "cell_type": "code",
   "execution_count": 5,
   "metadata": {},
   "outputs": [],
   "source": [
    "all_zip = {}"
   ]
  },
  {
   "cell_type": "code",
   "execution_count": 33,
   "metadata": {},
   "outputs": [],
   "source": [
    "new_zip = search.by_zipcode(10001)"
   ]
  },
  {
   "cell_type": "code",
   "execution_count": 34,
   "metadata": {},
   "outputs": [
    {
     "data": {
      "text/plain": [
       "['718', '917', '347', '646']"
      ]
     },
     "execution_count": 34,
     "metadata": {},
     "output_type": "execute_result"
    }
   ],
   "source": [
    "new_zip.area_code_list"
   ]
  },
  {
   "cell_type": "code",
   "execution_count": 9,
   "metadata": {},
   "outputs": [],
   "source": [
    "for i in range( 10000,99999):\n",
    "    new_zip = search.by_zipcode(str(i))\n",
    "    if new_zip.population != None:\n",
    "        all_zip[i] = {'latt': new_zip.lat,\n",
    "                      'long': new_zip.lng,\n",
    "                      'median_house_value': new_zip.median_home_value,\n",
    "                      'housing_units': new_zip.housing_units,\n",
    "                      'population' : new_zip.population}"
   ]
  },
  {
   "cell_type": "code",
   "execution_count": 13,
   "metadata": {},
   "outputs": [],
   "source": [
    "all_zip = pd.DataFrame(all_zip).T"
   ]
  },
  {
   "cell_type": "code",
   "execution_count": 14,
   "metadata": {
    "scrolled": true
   },
   "outputs": [
    {
     "data": {
      "text/plain": [
       "(30562, 5)"
      ]
     },
     "execution_count": 14,
     "metadata": {},
     "output_type": "execute_result"
    }
   ],
   "source": [
    "all_zip.shape"
   ]
  },
  {
   "cell_type": "code",
   "execution_count": 15,
   "metadata": {},
   "outputs": [
    {
     "data": {
      "text/html": [
       "<div>\n",
       "<style scoped>\n",
       "    .dataframe tbody tr th:only-of-type {\n",
       "        vertical-align: middle;\n",
       "    }\n",
       "\n",
       "    .dataframe tbody tr th {\n",
       "        vertical-align: top;\n",
       "    }\n",
       "\n",
       "    .dataframe thead th {\n",
       "        text-align: right;\n",
       "    }\n",
       "</style>\n",
       "<table border=\"1\" class=\"dataframe\">\n",
       "  <thead>\n",
       "    <tr style=\"text-align: right;\">\n",
       "      <th></th>\n",
       "      <th>housing_units</th>\n",
       "      <th>latt</th>\n",
       "      <th>long</th>\n",
       "      <th>median_house_value</th>\n",
       "      <th>population</th>\n",
       "    </tr>\n",
       "  </thead>\n",
       "  <tbody>\n",
       "    <tr>\n",
       "      <th>10001</th>\n",
       "      <td>12476.0</td>\n",
       "      <td>40.750</td>\n",
       "      <td>-73.990</td>\n",
       "      <td>650200.0</td>\n",
       "      <td>21102.0</td>\n",
       "    </tr>\n",
       "    <tr>\n",
       "      <th>10002</th>\n",
       "      <td>34541.0</td>\n",
       "      <td>40.720</td>\n",
       "      <td>-73.990</td>\n",
       "      <td>535600.0</td>\n",
       "      <td>81410.0</td>\n",
       "    </tr>\n",
       "    <tr>\n",
       "      <th>10003</th>\n",
       "      <td>31078.0</td>\n",
       "      <td>40.730</td>\n",
       "      <td>-73.990</td>\n",
       "      <td>817700.0</td>\n",
       "      <td>56024.0</td>\n",
       "    </tr>\n",
       "    <tr>\n",
       "      <th>10004</th>\n",
       "      <td>2197.0</td>\n",
       "      <td>40.700</td>\n",
       "      <td>-74.020</td>\n",
       "      <td>894200.0</td>\n",
       "      <td>3089.0</td>\n",
       "    </tr>\n",
       "    <tr>\n",
       "      <th>10005</th>\n",
       "      <td>5317.0</td>\n",
       "      <td>40.705</td>\n",
       "      <td>-74.005</td>\n",
       "      <td>1000001.0</td>\n",
       "      <td>7135.0</td>\n",
       "    </tr>\n",
       "  </tbody>\n",
       "</table>\n",
       "</div>"
      ],
      "text/plain": [
       "       housing_units    latt    long  median_house_value  population\n",
       "10001        12476.0  40.750 -73.990            650200.0     21102.0\n",
       "10002        34541.0  40.720 -73.990            535600.0     81410.0\n",
       "10003        31078.0  40.730 -73.990            817700.0     56024.0\n",
       "10004         2197.0  40.700 -74.020            894200.0      3089.0\n",
       "10005         5317.0  40.705 -74.005           1000001.0      7135.0"
      ]
     },
     "execution_count": 15,
     "metadata": {},
     "output_type": "execute_result"
    }
   ],
   "source": [
    "all_zip.head()"
   ]
  },
  {
   "cell_type": "code",
   "execution_count": 16,
   "metadata": {},
   "outputs": [],
   "source": [
    "all_zip.to_csv('./all_zipcodes.csv')"
   ]
  },
  {
   "cell_type": "code",
   "execution_count": null,
   "metadata": {},
   "outputs": [],
   "source": []
  }
 ],
 "metadata": {
  "kernelspec": {
   "display_name": "Python 3",
   "language": "python",
   "name": "python3"
  },
  "language_info": {
   "codemirror_mode": {
    "name": "ipython",
    "version": 3
   },
   "file_extension": ".py",
   "mimetype": "text/x-python",
   "name": "python",
   "nbconvert_exporter": "python",
   "pygments_lexer": "ipython3",
   "version": "3.6.8"
  }
 },
 "nbformat": 4,
 "nbformat_minor": 2
}
